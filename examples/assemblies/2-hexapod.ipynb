{
 "cells": [
  {
   "cell_type": "code",
   "execution_count": 1,
   "metadata": {
    "execution": {
     "iopub.execute_input": "2020-12-01T07:11:49.959025Z",
     "iopub.status.busy": "2020-12-01T07:11:49.958553Z",
     "iopub.status.idle": "2020-12-01T07:11:51.268317Z",
     "shell.execute_reply": "2020-12-01T07:11:51.267756Z",
     "shell.execute_reply.started": "2020-12-01T07:11:49.958906Z"
    }
   },
   "outputs": [
    {
     "name": "stdout",
     "output_type": "stream",
     "text": [
      "Overwriting auto display for cadquery Workplane and Shape\n"
     ]
    }
   ],
   "source": [
    "import cadquery as cq\n",
    "from jupyter_cadquery import set_defaults, set_sidecar, get_defaults, reset_cache, Animation\n",
    "from jupyter_cadquery.cadquery import show, PartGroup, Part, Faces, Edges\n",
    "from jupyter_cadquery.mate_assembly import Mate, MAssembly\n",
    "\n",
    "set_sidecar(\"Hexapod\")\n",
    "set_defaults(axes=True, axes0=True, edge_accuracy=0.01, mate_scale=5, zoom=3, timeit=True)"
   ]
  },
  {
   "cell_type": "code",
   "execution_count": 2,
   "metadata": {
    "execution": {
     "iopub.execute_input": "2020-12-01T07:11:51.269553Z",
     "iopub.status.busy": "2020-12-01T07:11:51.269380Z",
     "iopub.status.idle": "2020-12-01T07:11:51.272507Z",
     "shell.execute_reply": "2020-12-01T07:11:51.272031Z",
     "shell.execute_reply.started": "2020-12-01T07:11:51.269531Z"
    }
   },
   "outputs": [],
   "source": [
    "from jupyter_cadquery.cad_renderer import RENDER_CACHE"
   ]
  },
  {
   "cell_type": "markdown",
   "metadata": {},
   "source": [
    "# Hexapod "
   ]
  },
  {
   "cell_type": "markdown",
   "metadata": {},
   "source": [
    "![2-hexapod.png](2-hexapod.png)"
   ]
  },
  {
   "cell_type": "code",
   "execution_count": 3,
   "metadata": {
    "execution": {
     "iopub.execute_input": "2020-12-01T07:11:51.273932Z",
     "iopub.status.busy": "2020-12-01T07:11:51.273765Z",
     "iopub.status.idle": "2020-12-01T07:11:51.285243Z",
     "shell.execute_reply": "2020-12-01T07:11:51.284643Z",
     "shell.execute_reply.started": "2020-12-01T07:11:51.273911Z"
    }
   },
   "outputs": [
    {
     "name": "stdout",
     "output_type": "stream",
     "text": [
      "Leg group 1 (transparent)\n",
      "horizontal movement     (array([0., 1., 2., 3., 4.]), [0, -25, 0, 25, 0])\n",
      "vertical heights (left)  (array([0. , 0.5, 1. , 1.5, 2. , 2.5, 3. , 3.5, 4. ]), [-20.0, -9.7, 15.0, 15.0, 15.0, 15.0, 15.0, -9.7, -20.0])\n",
      "vertical heights (right) (array([0. , 0.5, 1. , 1.5, 2. , 2.5, 3. , 3.5, 4. ]), [20.0, 9.7, -15.0, -15.0, -15.0, -15.0, -15.0, 9.7, 20.0])\n",
      "\n",
      "Leg group 1 (filled)\n",
      "horizontal movement (array([0., 1., 2., 3., 4.]), [0, 25, 0, -25, 0])\n",
      "vertical heights (left)  (array([0. , 0.5, 1. , 1.5, 2. , 2.5, 3. , 3.5, 4. ]), [15.0, 15.0, 15.0, -9.7, -20.0, -9.7, 15.0, 15.0, 15.0])\n",
      "vertical heights (right) (array([0. , 0.5, 1. , 1.5, 2. , 2.5, 3. , 3.5, 4. ]), [-15.0, -15.0, -15.0, 9.7, 20.0, 9.7, -15.0, -15.0, -15.0])\n"
     ]
    }
   ],
   "source": [
    "import numpy as np\n",
    "horizontal_angle = 25\n",
    "\n",
    "def intervals(count):\n",
    "    r = [ min(180, (90 + i*(360 // count)) % 360) for i in range(count)]\n",
    "    return r \n",
    "\n",
    "def times(end, count):\n",
    "    return np.linspace(0, end, count+1)\n",
    "    \n",
    "def vertical(count, end, offset, reverse):\n",
    "    factor = -1 if reverse else 1\n",
    "    ints = intervals(count)\n",
    "    heights = [factor * round(35 * np.sin(np.deg2rad(x)) - 15, 1) for x in ints]\n",
    "    heights.append(heights[0])\n",
    "    return times(end, count), heights[offset:] + heights[1:offset+1]\n",
    "\n",
    "def horizontal(end, reverse):\n",
    "    factor = -1 if reverse else 1\n",
    "    return times(end, 4), [0, factor * horizontal_angle, 0, -factor * horizontal_angle, 0]\n",
    "\n",
    "print(\"Leg group 1 (transparent)\")\n",
    "print(\"horizontal movement    \", horizontal(4, True))\n",
    "print(\"vertical heights (left) \", vertical(8, 4, 0, True))\n",
    "print(\"vertical heights (right)\", vertical(8, 4, 0, False))\n",
    "\n",
    "print(\"\\nLeg group 1 (filled)\")\n",
    "print(\"horizontal movement\", horizontal(4, False))\n",
    "print(\"vertical heights (left) \", vertical(8, 4, 4, True))\n",
    "print(\"vertical heights (right)\", vertical(8, 4, 4, False))\n"
   ]
  },
  {
   "cell_type": "markdown",
   "metadata": {
    "execution": {
     "iopub.execute_input": "2020-11-21T10:41:18.054324Z",
     "iopub.status.busy": "2020-11-21T10:41:18.053865Z",
     "iopub.status.idle": "2020-11-21T10:41:18.059405Z",
     "shell.execute_reply": "2020-11-21T10:41:18.058291Z",
     "shell.execute_reply.started": "2020-11-21T10:41:18.054266Z"
    }
   },
   "source": [
    "# PartGroup"
   ]
  },
  {
   "cell_type": "markdown",
   "metadata": {},
   "source": [
    "## Parts"
   ]
  },
  {
   "cell_type": "code",
   "execution_count": 4,
   "metadata": {
    "execution": {
     "iopub.execute_input": "2020-12-01T07:11:51.287314Z",
     "iopub.status.busy": "2020-12-01T07:11:51.287138Z",
     "iopub.status.idle": "2020-12-01T07:11:51.290416Z",
     "shell.execute_reply": "2020-12-01T07:11:51.289908Z",
     "shell.execute_reply.started": "2020-12-01T07:11:51.287294Z"
    }
   },
   "outputs": [],
   "source": [
    "thickness = 2\n",
    "height = 40\n",
    "width = 65\n",
    "length = 100\n",
    "diam = 4\n",
    "tol = 0.05"
   ]
  },
  {
   "cell_type": "code",
   "execution_count": 5,
   "metadata": {
    "execution": {
     "iopub.execute_input": "2020-12-01T07:11:51.291617Z",
     "iopub.status.busy": "2020-12-01T07:11:51.291442Z",
     "iopub.status.idle": "2020-12-01T07:11:51.679411Z",
     "shell.execute_reply": "2020-12-01T07:11:51.678621Z",
     "shell.execute_reply.started": "2020-12-01T07:11:51.291595Z"
    }
   },
   "outputs": [],
   "source": [
    "x1, x2 = 0.63, 0.87\n",
    "base_holes = {\n",
    "    \"right_back\": (-x1*length, -x1*width), \"right_middle\": (0, -x2*width), \"right_front\": ( x1*length, -x1*width),\n",
    "    \"left_back\":  (-x1*length,  x1*width), \"left_middle\":  (0,  x2*width), \"left_front\":  ( x1*length,  x1*width),\n",
    "}\n",
    "stand_dist = {\"front_stand\": 0.75 * length, \"back_stand\": -0.8 * length}\n",
    "\n",
    "base = (cq.Workplane()\n",
    "    .ellipse(length, width).pushPoints(list(base_holes.values())).circle(diam / 2 + tol)\n",
    "    .extrude(thickness)\n",
    ")\n",
    "\n",
    "stand_cutout = cq.Workplane().box(thickness + 2 * tol, width / 2 + 2 * tol, thickness * 2)\n",
    "front_cutout = cq.Workplane().box(length / 3, 2 * (width + tol), 2 * thickness)\n",
    "\n",
    "base = (base\n",
    "    .cut(front_cutout.translate((length, 0, 0)))\n",
    "    .cut(stand_cutout.translate((stand_dist[\"back_stand\"], 0, thickness)))\n",
    "    .cut(stand_cutout.translate((stand_dist[\"front_stand\"], 0, thickness)))\n",
    "    .faces(\">X\").edges(\"not |Y\").fillet(width / 5)\n",
    ")"
   ]
  },
  {
   "cell_type": "code",
   "execution_count": 6,
   "metadata": {
    "execution": {
     "iopub.execute_input": "2020-12-01T07:11:51.680912Z",
     "iopub.status.busy": "2020-12-01T07:11:51.680684Z",
     "iopub.status.idle": "2020-12-01T07:11:51.935153Z",
     "shell.execute_reply": "2020-12-01T07:11:51.934264Z",
     "shell.execute_reply.started": "2020-12-01T07:11:51.680882Z"
    }
   },
   "outputs": [],
   "source": [
    "stand = cq.Workplane().box(height, width / 2 + 10, thickness)\n",
    "inset = cq.Workplane().box(thickness, width / 2, thickness)\n",
    "backing = cq.Workplane(\"ZX\").polyline([(10,0), (0,0), (0, 10)]).close().extrude(thickness)\n",
    "\n",
    "stand = (stand\n",
    "    .union(inset.translate(( (height + thickness) / 2, 0, 0)))\n",
    "    .union(inset.translate((-(height + thickness) / 2, 0, 0)))\n",
    "    .union(backing.translate((-height / 2, -thickness / 2, thickness / 2)))\n",
    "    .union(backing.rotate((0, 0, 0), (0, 1, 0), -90).translate((height / 2, -thickness / 2, thickness / 2)))\n",
    ")\n"
   ]
  },
  {
   "cell_type": "code",
   "execution_count": 7,
   "metadata": {
    "execution": {
     "iopub.execute_input": "2020-12-01T07:11:51.936559Z",
     "iopub.status.busy": "2020-12-01T07:11:51.936335Z",
     "iopub.status.idle": "2020-12-01T07:11:52.079155Z",
     "shell.execute_reply": "2020-12-01T07:11:52.078369Z",
     "shell.execute_reply.started": "2020-12-01T07:11:51.936530Z"
    }
   },
   "outputs": [],
   "source": [
    "l1, l2 = 50, 80\n",
    "pts = [( 0,  0), ( 0, height/2), (l1, height/2 - 5), (l2, 0)]\n",
    "upper_leg_hole = (l2 - 10, 0)\n",
    "\n",
    "upper_leg = (cq.Workplane()\n",
    "    .polyline(pts).mirrorX()\n",
    "    .pushPoints([upper_leg_hole]).circle(diam/2 + tol).extrude(thickness)\n",
    "    .edges(\"|Z and (not <X)\").fillet(4)\n",
    ")\n",
    "\n",
    "axle = (cq.Workplane(\"XZ\", origin=(0, height/2 + thickness + tol, thickness/2))\n",
    "    .circle(diam/2).extrude(2 * (height/2 + thickness + tol))\n",
    ")\n",
    "\n",
    "upper_leg = upper_leg.union(axle)"
   ]
  },
  {
   "cell_type": "code",
   "execution_count": 8,
   "metadata": {
    "execution": {
     "iopub.execute_input": "2020-12-01T07:11:52.080673Z",
     "iopub.status.busy": "2020-12-01T07:11:52.080420Z",
     "iopub.status.idle": "2020-12-01T07:11:52.126430Z",
     "shell.execute_reply": "2020-12-01T07:11:52.125704Z",
     "shell.execute_reply.started": "2020-12-01T07:11:52.080641Z"
    }
   },
   "outputs": [],
   "source": [
    "w, l1, l2 = 15, 20, 120\n",
    "pts = [( 0,  0), ( l1, w), (l2, 0)]\n",
    "lower_leg_hole = (l1 - 10, 0)\n",
    "\n",
    "lower_leg = (cq.Workplane()\n",
    "    .polyline(pts).mirrorX()\n",
    "    .pushPoints([lower_leg_hole]).circle(diam/2 + tol)\n",
    "    .extrude(thickness)\n",
    "    .edges(\"|Z\").fillet(5)\n",
    ")"
   ]
  },
  {
   "cell_type": "code",
   "execution_count": 9,
   "metadata": {
    "execution": {
     "iopub.execute_input": "2020-12-01T07:11:52.128444Z",
     "iopub.status.busy": "2020-12-01T07:11:52.128223Z",
     "iopub.status.idle": "2020-12-01T07:11:52.133828Z",
     "shell.execute_reply": "2020-12-01T07:11:52.133136Z",
     "shell.execute_reply.started": "2020-12-01T07:11:52.128417Z"
    }
   },
   "outputs": [],
   "source": [
    "leg_angles = {\n",
    "    \"right_back\": 105,  \"right_middle\": 90, \"right_front\": 75, \n",
    "    \"left_back\": -105,  \"left_middle\": -90, \"left_front\": -75,\n",
    "}\n",
    "leg_names = list(leg_angles.keys())\n",
    "stand_names = (\"front_stand\", \"back_stand\")"
   ]
  },
  {
   "cell_type": "code",
   "execution_count": 11,
   "metadata": {
    "execution": {
     "iopub.execute_input": "2020-12-01T07:12:11.221834Z",
     "iopub.status.busy": "2020-12-01T07:12:11.221407Z",
     "iopub.status.idle": "2020-12-01T07:12:12.225824Z",
     "shell.execute_reply": "2020-12-01T07:12:12.225267Z",
     "shell.execute_reply.started": "2020-12-01T07:12:11.221777Z"
    }
   },
   "outputs": [
    {
     "name": "stdout",
     "output_type": "stream",
     "text": [
      "Using multiprocessing\n"
     ]
    },
    {
     "name": "stderr",
     "output_type": "stream",
     "text": [
      "DEBUG:root: Tessellate object(hash=1396799925)\n",
      "DEBUG:root: Tessellate object(hash=1396150005)\n",
      "DEBUG:root: Tessellate object(hash=1395951317)\n",
      "DEBUG:root: Tessellate object(hash=1395688997)\n"
     ]
    },
    {
     "name": "stdout",
     "output_type": "stream",
     "text": [
      "T 100.07810592651367\n",
      "T 133.2693099975586\n",
      "T 138.9000415802002\n",
      "T 291.149377822876\n",
      "parallel tessellation time: 570 ms\n",
      "   - build mesh time: 13 ms\n",
      "   - discretize time: 3 ms\n",
      "         - edge list: 8 ms\n",
      "render shape Group                          time: 27 ms\n",
      "   - build mesh time: 12 ms\n",
      "   - discretize time: 0 ms\n",
      "         - edge list: 5 ms\n",
      "render shape Group                          time: 20 ms\n",
      "   - build mesh time: 12 ms\n",
      "   - discretize time: 0 ms\n",
      "         - edge list: 7 ms\n",
      "render shape Group                          time: 21 ms\n",
      "   - build mesh time: 12 ms\n",
      "   - discretize time: 0 ms\n",
      "         - edge list: 6 ms\n",
      "render shape Group                          time: 20 ms\n",
      " overall render time: 679 ms\n",
      "Done, using side car 'Hexapod'\n"
     ]
    },
    {
     "data": {
      "text/plain": [
       "<jupyter_cadquery.cad_display.CadqueryDisplay at 0x7efd339c0250>"
      ]
     },
     "execution_count": 11,
     "metadata": {},
     "output_type": "execute_result"
    }
   ],
   "source": [
    "reset_cache()\n",
    "show(\n",
    "    base, \n",
    "    stand.translate((0,100,thickness/2)), \n",
    "    upper_leg, # .translate((-100,-100,0)),\n",
    "    lower_leg, # .translate((0,-100,0)),\n",
    "    parallel=True\n",
    ")"
   ]
  },
  {
   "cell_type": "markdown",
   "metadata": {},
   "source": [
    "## Define PartGroup"
   ]
  },
  {
   "cell_type": "code",
   "execution_count": 11,
   "metadata": {
    "execution": {
     "iopub.execute_input": "2020-11-30T20:38:40.937538Z",
     "iopub.status.busy": "2020-11-30T20:38:40.937369Z",
     "iopub.status.idle": "2020-11-30T20:38:40.944290Z",
     "shell.execute_reply": "2020-11-30T20:38:40.943779Z",
     "shell.execute_reply.started": "2020-11-30T20:38:40.937516Z"
    }
   },
   "outputs": [],
   "source": [
    "def create_hexapod():\n",
    "    # Some shortcuts\n",
    "    L = lambda *args: cq.Location(cq.Vector(*args))\n",
    "    C = lambda *args: cq.Color(*args)\n",
    "\n",
    "    # Leg assembly\n",
    "    leg = (MAssembly(upper_leg, name=\"upper\", color=C(\"orange\"))\n",
    "        .add(lower_leg, name=\"lower\", color=C(\"orange\"), loc=L(80,0,0))\n",
    "    )\n",
    "    # Hexapod assembly\n",
    "    hexapod = (MAssembly(base, name=\"bottom\", color=C(\"gray\"), loc=L(0, 1.1*width, 0))\n",
    "        .add(base, name=\"top\", color=C(0.9, 0.9, 0.9), loc=L(0, -2.2*width, 0))\n",
    "        .add(stand, name=\"front_stand\", color=C(0.5, 0.8, 0.9), loc=L( 40, 100, 0))\n",
    "        .add(stand, name=\"back_stand\", color=C(0.5, 0.8, 0.9), loc=L(-40, 100, 0))\n",
    "    )\n",
    "    for i, name in enumerate(leg_names):\n",
    "        hexapod.add(leg, name=name, loc=L(100, -55*(i-1.7), 0))\n",
    "\n",
    "    return hexapod"
   ]
  },
  {
   "cell_type": "markdown",
   "metadata": {},
   "source": [
    "## Define Mates "
   ]
  },
  {
   "cell_type": "code",
   "execution_count": 12,
   "metadata": {
    "execution": {
     "iopub.execute_input": "2020-11-30T20:38:40.945181Z",
     "iopub.status.busy": "2020-11-30T20:38:40.945018Z",
     "iopub.status.idle": "2020-11-30T20:38:40.951290Z",
     "shell.execute_reply": "2020-11-30T20:38:40.950657Z",
     "shell.execute_reply.started": "2020-11-30T20:38:40.945159Z"
    }
   },
   "outputs": [],
   "source": [
    "#reset_cache()"
   ]
  },
  {
   "cell_type": "code",
   "execution_count": 21,
   "metadata": {
    "execution": {
     "iopub.execute_input": "2020-11-30T20:40:43.225100Z",
     "iopub.status.busy": "2020-11-30T20:40:43.224701Z",
     "iopub.status.idle": "2020-11-30T20:40:45.292455Z",
     "shell.execute_reply": "2020-11-30T20:40:45.291789Z",
     "shell.execute_reply.started": "2020-11-30T20:40:43.225048Z"
    }
   },
   "outputs": [
    {
     "name": "stdout",
     "output_type": "stream",
     "text": [
      "Using multiprocessing\n"
     ]
    },
    {
     "name": "stderr",
     "output_type": "stream",
     "text": [
      "DEBUG:root: Tessellate object(hash=606042726)\n",
      "DEBUG:root: Tessellate object(hash=605213318)\n",
      "DEBUG:root: Tessellate object(hash=605959990)\n",
      "DEBUG:root: Tessellate object(hash=605790118)\n"
     ]
    },
    {
     "name": "stdout",
     "output_type": "stream",
     "text": [
      "parallel tessellation time: 501 ms\n",
      "   - build mesh time: 18 ms\n",
      "   - discretize time: 6 ms\n",
      "         - edge list: 12 ms\n",
      "render shape bottom                         time: 38 ms\n",
      "   - discretize time: 0 ms\n",
      "         - edge list: 7 ms\n",
      "render shape mates                          time: 7 ms\n",
      "   - discretize time: 0 ms\n",
      "         - edge list: 7 ms\n",
      "render shape mates                          time: 7 ms\n",
      "   - discretize time: 0 ms\n",
      "         - edge list: 7 ms\n",
      "render shape mates                          time: 7 ms\n",
      "   - discretize time: 0 ms\n",
      "         - edge list: 7 ms\n",
      "render shape mates                          time: 7 ms\n",
      "   - discretize time: 0 ms\n",
      "         - edge list: 7 ms\n",
      "render shape mates                          time: 7 ms\n",
      "   - discretize time: 0 ms\n",
      "         - edge list: 7 ms\n",
      "render shape mates                          time: 7 ms\n",
      "   - discretize time: 0 ms\n",
      "         - edge list: 7 ms\n",
      "render shape mates                          time: 7 ms\n",
      "   - discretize time: 0 ms\n",
      "         - edge list: 7 ms\n",
      "render shape mates                          time: 7 ms\n",
      "   - discretize time: 0 ms\n",
      "         - edge list: 7 ms\n",
      "render shape mates                          time: 7 ms\n",
      "   - build mesh time: 16 ms\n",
      "   - discretize time: 5 ms\n",
      "         - edge list: 11 ms\n",
      "render shape top                            time: 35 ms\n",
      "   - discretize time: 0 ms\n",
      "         - edge list: 7 ms\n",
      "render shape mates                          time: 7 ms\n",
      "   - build mesh time: 13 ms\n",
      "   - discretize time: 0 ms\n",
      "         - edge list: 5 ms\n",
      "render shape front_stand                    time: 20 ms\n",
      "   - discretize time: 0 ms\n",
      "         - edge list: 5 ms\n",
      "render shape mates                          time: 5 ms\n",
      "   - build mesh time: 13 ms\n",
      "   - discretize time: 0 ms\n",
      "         - edge list: 5 ms\n",
      "render shape back_stand                     time: 20 ms\n",
      "   - discretize time: 0 ms\n",
      "         - edge list: 5 ms\n",
      "render shape mates                          time: 5 ms\n",
      "   - build mesh time: 12 ms\n",
      "   - discretize time: 1 ms\n",
      "         - edge list: 5 ms\n",
      "render shape right_back                     time: 19 ms\n",
      "   - discretize time: 0 ms\n",
      "         - edge list: 5 ms\n",
      "render shape mates                          time: 5 ms\n",
      "   - discretize time: 0 ms\n",
      "         - edge list: 5 ms\n",
      "render shape mates                          time: 5 ms\n",
      "   - build mesh time: 12 ms\n",
      "   - discretize time: 0 ms\n",
      "         - edge list: 6 ms\n",
      "render shape lower                          time: 19 ms\n",
      "   - discretize time: 0 ms\n",
      "         - edge list: 5 ms\n",
      "render shape mates                          time: 5 ms\n",
      "   - build mesh time: 12 ms\n",
      "   - discretize time: 1 ms\n",
      "         - edge list: 5 ms\n",
      "render shape right_middle                   time: 19 ms\n",
      "   - discretize time: 0 ms\n",
      "         - edge list: 5 ms\n",
      "render shape mates                          time: 5 ms\n",
      "   - discretize time: 0 ms\n",
      "         - edge list: 5 ms\n",
      "render shape mates                          time: 5 ms\n",
      "   - build mesh time: 12 ms\n",
      "   - discretize time: 0 ms\n",
      "         - edge list: 5 ms\n",
      "render shape lower                          time: 19 ms\n",
      "   - discretize time: 0 ms\n",
      "         - edge list: 5 ms\n",
      "render shape mates                          time: 5 ms\n",
      "   - build mesh time: 12 ms\n",
      "   - discretize time: 1 ms\n",
      "         - edge list: 6 ms\n",
      "render shape right_front                    time: 19 ms\n",
      "   - discretize time: 0 ms\n",
      "         - edge list: 5 ms\n",
      "render shape mates                          time: 5 ms\n",
      "   - discretize time: 0 ms\n",
      "         - edge list: 5 ms\n",
      "render shape mates                          time: 5 ms\n",
      "   - build mesh time: 12 ms\n",
      "   - discretize time: 0 ms\n",
      "         - edge list: 5 ms\n",
      "render shape lower                          time: 19 ms\n",
      "   - discretize time: 0 ms\n",
      "         - edge list: 5 ms\n",
      "render shape mates                          time: 5 ms\n",
      "   - build mesh time: 12 ms\n",
      "   - discretize time: 1 ms\n",
      "         - edge list: 5 ms\n",
      "render shape left_back                      time: 19 ms\n",
      "   - discretize time: 0 ms\n",
      "         - edge list: 5 ms\n",
      "render shape mates                          time: 5 ms\n",
      "   - discretize time: 0 ms\n",
      "         - edge list: 5 ms\n",
      "render shape mates                          time: 5 ms\n",
      "   - build mesh time: 12 ms\n",
      "   - discretize time: 0 ms\n",
      "         - edge list: 6 ms\n",
      "render shape lower                          time: 19 ms\n",
      "   - discretize time: 0 ms\n",
      "         - edge list: 5 ms\n",
      "render shape mates                          time: 5 ms\n",
      "   - build mesh time: 12 ms\n",
      "   - discretize time: 1 ms\n",
      "         - edge list: 5 ms\n",
      "render shape left_middle                    time: 20 ms\n",
      "   - discretize time: 0 ms\n",
      "         - edge list: 5 ms\n",
      "render shape mates                          time: 5 ms\n",
      "   - discretize time: 0 ms\n",
      "         - edge list: 5 ms\n",
      "render shape mates                          time: 5 ms\n",
      "   - build mesh time: 12 ms\n",
      "   - discretize time: 0 ms\n",
      "         - edge list: 5 ms\n",
      "render shape lower                          time: 19 ms\n",
      "   - discretize time: 0 ms\n",
      "         - edge list: 5 ms\n",
      "render shape mates                          time: 5 ms\n",
      "   - build mesh time: 12 ms\n",
      "   - discretize time: 1 ms\n",
      "         - edge list: 6 ms\n",
      "render shape left_front                     time: 20 ms\n",
      "   - discretize time: 0 ms\n",
      "         - edge list: 5 ms\n",
      "render shape mates                          time: 5 ms\n",
      "   - discretize time: 0 ms\n",
      "         - edge list: 5 ms\n",
      "render shape mates                          time: 5 ms\n",
      "   - build mesh time: 12 ms\n",
      "   - discretize time: 0 ms\n",
      "         - edge list: 5 ms\n",
      "render shape lower                          time: 19 ms\n",
      "   - discretize time: 0 ms\n",
      "         - edge list: 5 ms\n",
      "render shape mates                          time: 5 ms\n",
      " overall render time: 1302 ms\n",
      "Done, using side car 'Hexapod'\n"
     ]
    },
    {
     "data": {
      "text/plain": [
       "<jupyter_cadquery.cad_display.CadqueryDisplay at 0x7fb4dde1b250>"
      ]
     },
     "execution_count": 21,
     "metadata": {},
     "output_type": "execute_result"
    }
   ],
   "source": [
    "hexapod = create_hexapod()\n",
    "\n",
    "M = lambda selector, *obj_selectors: Mate(hexapod.find(selector, *obj_selectors))\n",
    "\n",
    "hexapod.mate(\n",
    "    name=\"bottom\", selector=\"bottom\", origin=True,\n",
    "    mate=M(\"bottom\", \"faces@>Z\")\n",
    ").mate(\n",
    "    name=\"top\", selector=\"top\", origin=True, \n",
    "    mate=M(\"top\", \"faces@<Z\").rx(180).tz(-(height + 2 * tol))\n",
    ")\n",
    "\n",
    "angle = {\"front_stand\":180, \"back_stand\":0}\n",
    "for name in stand_names:\n",
    "    hexapod.mate(\n",
    "        name=f\"bottom_{name}\", selector=\"bottom\", \n",
    "        mate=M(\"bottom\", \"faces@<Z\", (\"wires\", (stand_dist[name], 0))).rz(angle[name])\n",
    "    ).mate(\n",
    "        name=f\"{name}_lower\", selector=name, origin=True,\n",
    "        mate=M(name, \"faces@<X\").rz(90)\n",
    "    )\n",
    "\n",
    "for name, pnt in base_holes.items():\n",
    "    hexapod.mate(\n",
    "        name=f\"bottom_{name}\", selector=\"bottom\", \n",
    "        mate=M(\"bottom\", \"faces@<Z\", (\"wires\", pnt)).rz(leg_angles[name])\n",
    "    )\n",
    "\n",
    "for name in leg_names:\n",
    "    lower, upper, angle = (\">Z\", \"<Z\", 75) if \"left\" in name else (\"<Z\", \">Z\", -75)\n",
    "    hexapod.mate(\n",
    "        name=f\"{name}_lower_hinge\",  selector=f\"{name}>lower\", origin=True, \n",
    "        mate=M(f\"{name}>lower\", (\"faces\", lower), (\"wires\", lower_leg_hole)).rx(180)\n",
    "    ).mate(\n",
    "        name=f\"{name}_front_hinge\",  selector=name,\n",
    "        mate=M(name, (\"faces\", upper), (\"wires\", upper_leg_hole)).rz(angle)\n",
    "    ).mate(\n",
    "        name=f\"{name}_bottom_hinge\", selector=name, origin=True,\n",
    "        mate=M(name, \"faces@<Y\")\n",
    "    )\n",
    "    \n",
    "reset_cache()\n",
    "show(hexapod, render_mates=True, axes=False, timeit=True, parallel=True)"
   ]
  },
  {
   "cell_type": "markdown",
   "metadata": {},
   "source": [
    "## Relocate and assemble"
   ]
  },
  {
   "cell_type": "code",
   "execution_count": 14,
   "metadata": {
    "execution": {
     "iopub.execute_input": "2020-11-29T17:35:07.904356Z",
     "iopub.status.busy": "2020-11-29T17:35:07.903930Z",
     "iopub.status.idle": "2020-11-29T17:35:07.909556Z",
     "shell.execute_reply": "2020-11-29T17:35:07.908509Z",
     "shell.execute_reply.started": "2020-11-29T17:35:07.904299Z"
    }
   },
   "outputs": [],
   "source": [
    "set_defaults(parallel=True)"
   ]
  },
  {
   "cell_type": "code",
   "execution_count": 45,
   "metadata": {
    "execution": {
     "iopub.execute_input": "2020-11-29T17:40:33.505762Z",
     "iopub.status.busy": "2020-11-29T17:40:33.505311Z",
     "iopub.status.idle": "2020-11-29T17:40:33.511638Z",
     "shell.execute_reply": "2020-11-29T17:40:33.510494Z",
     "shell.execute_reply.started": "2020-11-29T17:40:33.505704Z"
    }
   },
   "outputs": [],
   "source": [
    "reset_cache()"
   ]
  },
  {
   "cell_type": "code",
   "execution_count": null,
   "metadata": {},
   "outputs": [],
   "source": [
    "get_defaults()"
   ]
  },
  {
   "cell_type": "code",
   "execution_count": 60,
   "metadata": {
    "execution": {
     "iopub.execute_input": "2020-11-29T17:44:45.057464Z",
     "iopub.status.busy": "2020-11-29T17:44:45.057014Z",
     "iopub.status.idle": "2020-11-29T17:44:46.759861Z",
     "shell.execute_reply": "2020-11-29T17:44:46.758868Z",
     "shell.execute_reply.started": "2020-11-29T17:44:45.057408Z"
    }
   },
   "outputs": [
    {
     "name": "stdout",
     "output_type": "stream",
     "text": [
      "parallel True\n",
      "using multiprocessing\n"
     ]
    },
    {
     "name": "stderr",
     "output_type": "stream",
     "text": [
      "DEBUG:root: Tessellate object(hash=1320792153)\n",
      "DEBUG:root: Tessellate object(hash=1457769673)\n",
      "DEBUG:root: Tessellate object(hash=1209859273)\n",
      "DEBUG:root: Tessellate object(hash=1335426137)\n",
      "DEBUG:root: Tessellate object(hash=1316933561)\n",
      "DEBUG:root: Tessellate object(hash=1225630921)\n",
      "DEBUG:root: Tessellate object(hash=1225680985)\n",
      "DEBUG:root: Tessellate object(hash=1247420617)\n",
      "DEBUG:root: Tessellate object(hash=1459183817)\n",
      "DEBUG:root: Tessellate object(hash=135509081)\n",
      "DEBUG:root: Tessellate object(hash=1210647353)\n",
      "DEBUG:root: Tessellate object(hash=1225136329)\n",
      "DEBUG:root: Tessellate object(hash=1321861945)\n",
      "DEBUG:root: Tessellate object(hash=1240884313)\n",
      "DEBUG:root: Tessellate object(hash=1208467545)\n",
      "DEBUG:root: Tessellate object(hash=1233857465)\n"
     ]
    },
    {
     "name": "stdout",
     "output_type": "stream",
     "text": [
      "parallel tessellation time: 776 ms\n",
      "   - build mesh time: 19 ms\n",
      "   - discretize time: 6 ms\n",
      "         - edge list: 12 ms\n",
      "render shape bottom                         time: 41 ms\n",
      "   - build mesh time: 17 ms\n",
      "   - discretize time: 5 ms\n",
      "         - edge list: 11 ms\n",
      "render shape top                            time: 36 ms\n",
      "   - build mesh time: 17 ms\n",
      "   - discretize time: 1 ms\n",
      "         - edge list: 7 ms\n",
      "render shape front_stand                    time: 28 ms\n",
      "   - build mesh time: 17 ms\n",
      "   - discretize time: 1 ms\n",
      "         - edge list: 7 ms\n",
      "render shape back_stand                     time: 27 ms\n",
      "   - build mesh time: 17 ms\n",
      "   - discretize time: 1 ms\n",
      "         - edge list: 8 ms\n",
      "render shape right_back                     time: 28 ms\n",
      "   - build mesh time: 17 ms\n",
      "   - discretize time: 1 ms\n",
      "         - edge list: 8 ms\n",
      "render shape lower                          time: 28 ms\n",
      "   - build mesh time: 17 ms\n",
      "   - discretize time: 1 ms\n",
      "         - edge list: 8 ms\n",
      "render shape right_middle                   time: 28 ms\n",
      "   - build mesh time: 15 ms\n",
      "   - discretize time: 1 ms\n",
      "         - edge list: 6 ms\n",
      "render shape lower                          time: 23 ms\n",
      "   - build mesh time: 12 ms\n",
      "   - discretize time: 1 ms\n",
      "         - edge list: 6 ms\n",
      "render shape right_front                    time: 20 ms\n",
      "   - build mesh time: 12 ms\n",
      "   - discretize time: 1 ms\n",
      "         - edge list: 6 ms\n",
      "render shape lower                          time: 19 ms\n",
      "   - build mesh time: 12 ms\n",
      "   - discretize time: 1 ms\n",
      "         - edge list: 5 ms\n",
      "render shape left_back                      time: 20 ms\n",
      "   - build mesh time: 12 ms\n",
      "   - discretize time: 1 ms\n",
      "         - edge list: 5 ms\n",
      "render shape lower                          time: 20 ms\n",
      "   - build mesh time: 12 ms\n",
      "   - discretize time: 1 ms\n",
      "         - edge list: 5 ms\n",
      "render shape left_middle                    time: 20 ms\n",
      "   - build mesh time: 12 ms\n",
      "   - discretize time: 1 ms\n",
      "         - edge list: 6 ms\n",
      "render shape lower                          time: 19 ms\n",
      "   - build mesh time: 12 ms\n",
      "   - discretize time: 1 ms\n",
      "         - edge list: 6 ms\n",
      "render shape left_front                     time: 20 ms\n",
      "   - build mesh time: 12 ms\n",
      "   - discretize time: 1 ms\n",
      "         - edge list: 6 ms\n",
      "render shape lower                          time: 20 ms\n",
      " overall render time: 1302 ms\n",
      "Done, using side car 'Hexapod'\n"
     ]
    },
    {
     "data": {
      "text/plain": [
       "<jupyter_cadquery.cad_display.CadqueryDisplay at 0x7fa7aa55fac0>"
      ]
     },
     "execution_count": 60,
     "metadata": {},
     "output_type": "execute_result"
    }
   ],
   "source": [
    "hexapod.relocate()\n",
    "reset_cache()\n",
    "\n",
    "show(hexapod, render_mates=False, parallel=True)"
   ]
  },
  {
   "cell_type": "code",
   "execution_count": null,
   "metadata": {},
   "outputs": [],
   "source": [
    "get_default(\"parallel\")"
   ]
  },
  {
   "cell_type": "code",
   "execution_count": null,
   "metadata": {},
   "outputs": [],
   "source": [
    "from jupyter_cadquery.cad_renderer import RENDER_CACHE\n",
    "RENDER_CACHE.set_log_level(\"DEBUG\")"
   ]
  },
  {
   "cell_type": "code",
   "execution_count": null,
   "metadata": {},
   "outputs": [],
   "source": [
    "reset_cache()"
   ]
  },
  {
   "cell_type": "code",
   "execution_count": null,
   "metadata": {},
   "outputs": [],
   "source": [
    "for leg in leg_names:\n",
    "    hexapod.assemble(f\"{leg}_bottom_hinge\", f\"bottom_{leg}\")\n",
    "    hexapod.assemble(f\"{leg}_lower_hinge\", f\"{leg}_front_hinge\")\n",
    "\n",
    "for stand_name in stand_names:\n",
    "    hexapod.assemble(f\"{stand_name}_lower\", f\"bottom_{stand_name}\")\n",
    "\n",
    "hexapod.assemble(\"top\", \"bottom\")\n",
    "\n",
    "d = show(hexapod, render_mates=False, grid=True, axes=False, parallel=True)"
   ]
  },
  {
   "cell_type": "markdown",
   "metadata": {
    "execution": {
     "iopub.execute_input": "2020-11-11T18:38:34.291869Z",
     "iopub.status.busy": "2020-11-11T18:38:34.291415Z",
     "iopub.status.idle": "2020-11-11T18:38:34.297872Z",
     "shell.execute_reply": "2020-11-11T18:38:34.296622Z",
     "shell.execute_reply.started": "2020-11-11T18:38:34.291799Z"
    }
   },
   "source": [
    "## Animation"
   ]
  },
  {
   "cell_type": "code",
   "execution_count": null,
   "metadata": {},
   "outputs": [],
   "source": [
    "leg_group = (\"left_front\", \"right_middle\", \"left_back\")\n",
    "\n",
    "animation = Animation(d.root_group)\n",
    "\n",
    "for name in leg_names:\n",
    "    # move upper leg\n",
    "    animation.add_number_track(f\"bottom>{name}\", \"rz\", *horizontal(4, \"middle\" in name))\n",
    "    \n",
    "    # move lower leg\n",
    "    animation.add_number_track(f\"bottom>{name}>lower\", \"rz\", *vertical(8, 4, 0 if name in leg_group else 4, \"left\" in name))\n",
    "    \n",
    "    # lift hexapod to run on grid\n",
    "    animation.add_number_track(f\"bottom\", \"tz\", [0, 4], [61.25]*2)\n",
    "    \n",
    "animation.animate(speed=3)"
   ]
  },
  {
   "cell_type": "code",
   "execution_count": null,
   "metadata": {},
   "outputs": [],
   "source": []
  }
 ],
 "metadata": {
  "kernelspec": {
   "display_name": "Python 3",
   "language": "python",
   "name": "python3"
  },
  "language_info": {
   "codemirror_mode": {
    "name": "ipython",
    "version": 3
   },
   "file_extension": ".py",
   "mimetype": "text/x-python",
   "name": "python",
   "nbconvert_exporter": "python",
   "pygments_lexer": "ipython3",
   "version": "3.8.5"
  }
 },
 "nbformat": 4,
 "nbformat_minor": 4
}
