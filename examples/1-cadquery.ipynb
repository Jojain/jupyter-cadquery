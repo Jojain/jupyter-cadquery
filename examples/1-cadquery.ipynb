{
 "cells": [
  {
   "cell_type": "markdown",
   "metadata": {},
   "source": [
    "# Intro"
   ]
  },
  {
   "cell_type": "code",
   "execution_count": 1,
   "metadata": {
    "tags": []
   },
   "outputs": [
    {
     "name": "stdout",
     "output_type": "stream",
     "text": [
      "Overwriting auto display for cadquery Workplane and Shape\n"
     ]
    },
    {
     "data": {
      "application/vnd.jupyter.widget-view+json": {
       "model_id": "46aa4acb5a5842f99a2f2fc85d353128",
       "version_major": 2,
       "version_minor": 0
      },
      "text/plain": [
       "HBox(children=(VBox(children=(HBox(children=(Checkbox(value=False, description='Axes', indent=False, _dom_clas…"
      ]
     },
     "metadata": {},
     "output_type": "display_data"
    },
    {
     "name": "stdout",
     "output_type": "stream",
     "text": [
      "| | Object: Group\n",
      "| | | (deflection = 0.01600, angular deflection = 0.20944, parallel = False)\n",
      "| | | (caching 139996713819568)\n",
      "| | | build mesh time:    0.02 sec\n",
      "| | shape render time:    0.04 sec\n",
      "| overall render time:    0.05 sec\n",
      "| create bounding box:    0.00 sec\n",
      "| configure view:       0.05 sec\n",
      "add shapes:             0.10 sec\n",
      "configure display:      0.01 sec\n"
     ]
    },
    {
     "data": {
      "text/plain": [
       "<jupyter_cadquery.cad_display.CadqueryDisplay at 0x7f5386659c10>"
      ]
     },
     "execution_count": 1,
     "metadata": {},
     "output_type": "execute_result"
    }
   ],
   "source": [
    "import cadquery as cq\n",
    "from jupyter_cadquery.cadquery import show\n",
    "\n",
    "show(cq.Workplane('XY').box(20, 30, 40) # .edges(\">X or <X\").fillet(2)\n",
    "    , render_normals=True\n",
    "    , timeit=True\n",
    ")"
   ]
  },
  {
   "cell_type": "markdown",
   "metadata": {},
   "source": [
    "# Assemblies"
   ]
  },
  {
   "cell_type": "code",
   "execution_count": null,
   "metadata": {
    "tags": []
   },
   "outputs": [],
   "source": [
    "import cadquery as cq\n",
    "from jupyter_cadquery.cadquery import (PartGroup, Part, Edges, Faces, Vertices, show, \n",
    "                                       replay, enable_replay, disable_replay, reset_replay)\n",
    "from jupyter_cadquery import set_sidecar\n",
    "\n",
    "set_sidecar(\"CadQuery\")"
   ]
  },
  {
   "cell_type": "code",
   "execution_count": null,
   "metadata": {},
   "outputs": [],
   "source": [
    "enable_replay(warning=False)  # False disables the repeated warning about replay being enabled!"
   ]
  },
  {
   "cell_type": "code",
   "execution_count": null,
   "metadata": {
    "tags": []
   },
   "outputs": [],
   "source": [
    "box1 = cq.Workplane('XY').box(10, 20, 30).edges(\">X or <X\").chamfer(2)\n",
    "box1.name = \"box1\"\n",
    "\n",
    "box2 = cq.Workplane('XY').box(8, 18, 28).edges(\">X or <X\").chamfer(2)\n",
    "box2.name = \"box2\"\n",
    "\n",
    "box3 = cq.Workplane('XY').transformed(offset=(0, 15, 7))\\\n",
    "    .box(30, 20, 6).edges(\">Z\").fillet(3)\n",
    "box3.name = \"box3\"\n",
    "\n",
    "box4 = box3.mirror(\"XY\").translate((0, -5, 0))\n",
    "box4.name = \"box4\"\n",
    "\n",
    "box1 = box1\\\n",
    "    .cut(box2)\\\n",
    "    .cut(box3)\\\n",
    "    .cut(box4)"
   ]
  },
  {
   "cell_type": "code",
   "execution_count": null,
   "metadata": {
    "tags": []
   },
   "outputs": [],
   "source": [
    "a1 = PartGroup(\n",
    "    [\n",
    "        Part(box1, \"red box\",   \"#d7191c\", show_edges=False),\n",
    "        Part(box3, \"green box\", \"#abdda4\", show_edges=False),\n",
    "        Part(box4, \"blue box\",  \"#2b83ba\", show_faces=False),\n",
    "    ],\n",
    "    \"example 1\"\n",
    ")\n",
    "d = show(a1, axes=True, grid=True, ortho=True, axes0=True)"
   ]
  },
  {
   "cell_type": "markdown",
   "metadata": {},
   "source": [
    "## Export to HTML"
   ]
  },
  {
   "cell_type": "code",
   "execution_count": null,
   "metadata": {
    "tags": []
   },
   "outputs": [],
   "source": [
    "from ipywidgets.embed import embed_minimal_html, dependency_state\n",
    "embed_minimal_html(\n",
    "    'export.html', \n",
    "    title='Box', \n",
    "    views=[d.cq_view.renderer], \n",
    "    state=dependency_state(d.cq_view.renderer))"
   ]
  },
  {
   "cell_type": "markdown",
   "metadata": {},
   "source": [
    "# Faces, Edges, Vertices"
   ]
  },
  {
   "cell_type": "code",
   "execution_count": null,
   "metadata": {},
   "outputs": [],
   "source": [
    "box1"
   ]
  },
  {
   "cell_type": "code",
   "execution_count": null,
   "metadata": {},
   "outputs": [],
   "source": [
    "box1.faces(\"not(|Z or |X or |Y)\")"
   ]
  },
  {
   "cell_type": "code",
   "execution_count": null,
   "metadata": {},
   "outputs": [],
   "source": [
    "box1.edges(\"not(|X or |Y or |Z)\")"
   ]
  },
  {
   "cell_type": "code",
   "execution_count": null,
   "metadata": {},
   "outputs": [],
   "source": [
    "box1.vertices()"
   ]
  },
  {
   "cell_type": "code",
   "execution_count": null,
   "metadata": {},
   "outputs": [],
   "source": [
    "# Replay"
   ]
  },
  {
   "cell_type": "code",
   "execution_count": null,
   "metadata": {},
   "outputs": [],
   "source": [
    "r = replay(box1)"
   ]
  },
  {
   "cell_type": "code",
   "execution_count": null,
   "metadata": {},
   "outputs": [],
   "source": []
  }
 ],
 "metadata": {
  "kernelspec": {
   "display_name": "Python 3",
   "language": "python",
   "name": "python3"
  },
  "language_info": {
   "codemirror_mode": {
    "name": "ipython",
    "version": 3
   },
   "file_extension": ".py",
   "mimetype": "text/x-python",
   "name": "python",
   "nbconvert_exporter": "python",
   "pygments_lexer": "ipython3",
   "version": "3.7.10"
  },
  "widgets": {
   "application/vnd.jupyter.widget-state+json": {
    "state": {},
    "version_major": 2,
    "version_minor": 0
   }
  }
 },
 "nbformat": 4,
 "nbformat_minor": 4
}
